{
 "cells": [
  {
   "cell_type": "markdown",
   "metadata": {},
   "source": [
    "# Exploratory Data Analysis of a Chess Database\n",
    "Recreating the data analysis presented in 'exploratory.py' in a jupyter notebook and adding new ideas."
   ]
  },
  {
   "cell_type": "markdown",
   "metadata": {},
   "source": [
    "## Data Load-in"
   ]
  },
  {
   "cell_type": "code",
   "execution_count": 11,
   "metadata": {},
   "outputs": [],
   "source": [
    "## Imports\n",
    "import numpy as np\n",
    "import pandas as pd \n",
    "import seaborn as sns\n",
    "import matplotlib.pyplot as plt \n"
   ]
  },
  {
   "cell_type": "code",
   "execution_count": 12,
   "metadata": {},
   "outputs": [],
   "source": [
    "# Read in the .csv file into a pandas dataframe\n",
    "df = pd.read_csv('10480_games_with_centipawn_metrics.csv')"
   ]
  },
  {
   "cell_type": "markdown",
   "metadata": {},
   "source": [
    "## Data Cleaning/Preparation"
   ]
  },
  {
   "cell_type": "code",
   "execution_count": 13,
   "metadata": {},
   "outputs": [
    {
     "data": {
      "text/html": [
       "<div>\n",
       "<style scoped>\n",
       "    .dataframe tbody tr th:only-of-type {\n",
       "        vertical-align: middle;\n",
       "    }\n",
       "\n",
       "    .dataframe tbody tr th {\n",
       "        vertical-align: top;\n",
       "    }\n",
       "\n",
       "    .dataframe thead th {\n",
       "        text-align: right;\n",
       "    }\n",
       "</style>\n",
       "<table border=\"1\" class=\"dataframe\">\n",
       "  <thead>\n",
       "    <tr style=\"text-align: right;\">\n",
       "      <th></th>\n",
       "      <th>Unnamed: 0</th>\n",
       "      <th>Date</th>\n",
       "      <th>Event Name</th>\n",
       "      <th>Event Rounds</th>\n",
       "      <th>Round</th>\n",
       "      <th>White Name</th>\n",
       "      <th>Black Name</th>\n",
       "      <th>Result</th>\n",
       "      <th>White ELO</th>\n",
       "      <th>Black ELO</th>\n",
       "      <th>Moves</th>\n",
       "      <th>White Av CP Loss</th>\n",
       "      <th>Black Av CP Loss</th>\n",
       "      <th>Evaluations List</th>\n",
       "      <th>White CP Loss List</th>\n",
       "      <th>Black CP Loss List</th>\n",
       "      <th>PGN</th>\n",
       "      <th>Analysis Depth</th>\n",
       "      <th>White Expected Rating by ACPL</th>\n",
       "      <th>Black Expected Rating by ACPL</th>\n",
       "    </tr>\n",
       "  </thead>\n",
       "  <tbody>\n",
       "    <tr>\n",
       "      <th>0</th>\n",
       "      <td>0</td>\n",
       "      <td>3/28/2018</td>\n",
       "      <td>Philadelphia op 12th</td>\n",
       "      <td>9</td>\n",
       "      <td>1</td>\n",
       "      <td>Niemann, Hans Moke</td>\n",
       "      <td>Oberoi, Shelev</td>\n",
       "      <td>0</td>\n",
       "      <td>2302.0</td>\n",
       "      <td>1924.0</td>\n",
       "      <td>39.0</td>\n",
       "      <td>22.0</td>\n",
       "      <td>46.0</td>\n",
       "      <td>[47, 43, 44, -9, 17, 10, 5, 0, 12, -30, -13, -...</td>\n",
       "      <td>[4, 53, 7, 5, 42, 38, 0, 13, 135, 0, 0, 5, 0, ...</td>\n",
       "      <td>[1, 26, 0, 12, 17, 10, 19, 14, 35, 12, 10, 11,...</td>\n",
       "      <td>[Event \"Philadelphia op 12th\"]\\n[Site \"Philade...</td>\n",
       "      <td>20.0</td>\n",
       "      <td>NaN</td>\n",
       "      <td>NaN</td>\n",
       "    </tr>\n",
       "    <tr>\n",
       "      <th>1</th>\n",
       "      <td>0</td>\n",
       "      <td>3/29/2018</td>\n",
       "      <td>Philadelphia op 12th</td>\n",
       "      <td>9</td>\n",
       "      <td>2</td>\n",
       "      <td>Niemann, Hans Moke</td>\n",
       "      <td>Popilski, Gil</td>\n",
       "      <td>1</td>\n",
       "      <td>2302.0</td>\n",
       "      <td>2502.0</td>\n",
       "      <td>36.0</td>\n",
       "      <td>12.0</td>\n",
       "      <td>13.0</td>\n",
       "      <td>[46, 36, 46, 35, 50, 36, 62, 47, 59, 38, 57, 5...</td>\n",
       "      <td>[10, 11, 14, 15, 21, 1, 31, 36, 2, 25, 11, 28,...</td>\n",
       "      <td>[10, 15, 26, 12, 19, 6, 54, 13, 18, 17, 12, 10...</td>\n",
       "      <td>[Event \"Philadelphia op 12th\"]\\n[Site \"Philade...</td>\n",
       "      <td>20.0</td>\n",
       "      <td>NaN</td>\n",
       "      <td>NaN</td>\n",
       "    </tr>\n",
       "    <tr>\n",
       "      <th>2</th>\n",
       "      <td>0</td>\n",
       "      <td>3/29/2018</td>\n",
       "      <td>Philadelphia op 12th</td>\n",
       "      <td>9</td>\n",
       "      <td>3</td>\n",
       "      <td>Gorovets, Andrey</td>\n",
       "      <td>Niemann, Hans Moke</td>\n",
       "      <td>2</td>\n",
       "      <td>2496.0</td>\n",
       "      <td>2302.0</td>\n",
       "      <td>50.0</td>\n",
       "      <td>46.0</td>\n",
       "      <td>28.0</td>\n",
       "      <td>[37, 27, 49, 6, 35, 12, 22, 18, 33, 13, 29, 19...</td>\n",
       "      <td>[10, 43, 23, 4, 20, 10, 12, 3, 9, 24, 10, 49, ...</td>\n",
       "      <td>[22, 29, 10, 15, 16, 0, 0, 41, 16, 7, 0, 73, 1...</td>\n",
       "      <td>[Event \"Philadelphia op 12th\"]\\n[Site \"Philade...</td>\n",
       "      <td>20.0</td>\n",
       "      <td>NaN</td>\n",
       "      <td>NaN</td>\n",
       "    </tr>\n",
       "    <tr>\n",
       "      <th>3</th>\n",
       "      <td>0</td>\n",
       "      <td>3/30/2018</td>\n",
       "      <td>Philadelphia op 12th</td>\n",
       "      <td>9</td>\n",
       "      <td>4</td>\n",
       "      <td>Tang, Andrew</td>\n",
       "      <td>Niemann, Hans Moke</td>\n",
       "      <td>0</td>\n",
       "      <td>2509.0</td>\n",
       "      <td>2302.0</td>\n",
       "      <td>38.0</td>\n",
       "      <td>22.0</td>\n",
       "      <td>38.0</td>\n",
       "      <td>[46, 26, 40, 37, 96, 67, 151, 114, 138, 125, 1...</td>\n",
       "      <td>[20, 3, 29, 37, 13, 51, 24, 33, 8, 45, 10, 31,...</td>\n",
       "      <td>[14, 59, 84, 24, 37, 42, 19, 36, 1, 50, 37, 0,...</td>\n",
       "      <td>[Event \"Philadelphia op 12th\"]\\n[Site \"Philade...</td>\n",
       "      <td>20.0</td>\n",
       "      <td>NaN</td>\n",
       "      <td>NaN</td>\n",
       "    </tr>\n",
       "    <tr>\n",
       "      <th>4</th>\n",
       "      <td>0</td>\n",
       "      <td>3/30/2018</td>\n",
       "      <td>Philadelphia op 12th</td>\n",
       "      <td>9</td>\n",
       "      <td>5</td>\n",
       "      <td>Niemann, Hans Moke</td>\n",
       "      <td>Balakrishnan, Praveen</td>\n",
       "      <td>2</td>\n",
       "      <td>2302.0</td>\n",
       "      <td>2405.0</td>\n",
       "      <td>39.0</td>\n",
       "      <td>23.0</td>\n",
       "      <td>7.0</td>\n",
       "      <td>[35, 27, 48, 23, 36, 20, 46, 8, 25, 31, 38, -5...</td>\n",
       "      <td>[8, 25, 16, 38, 0, 92, 6, 0, 1, 2, 0, 7, 0, 30...</td>\n",
       "      <td>[21, 13, 26, 17, 7, 3, 3, 45, 3, 0, 2, 0, 30, ...</td>\n",
       "      <td>[Event \"Philadelphia op 12th\"]\\n[Site \"Philade...</td>\n",
       "      <td>20.0</td>\n",
       "      <td>NaN</td>\n",
       "      <td>NaN</td>\n",
       "    </tr>\n",
       "  </tbody>\n",
       "</table>\n",
       "</div>"
      ],
      "text/plain": [
       "  Unnamed: 0       Date            Event Name Event Rounds Round  \\\n",
       "0          0  3/28/2018  Philadelphia op 12th            9     1   \n",
       "1          0  3/29/2018  Philadelphia op 12th            9     2   \n",
       "2          0  3/29/2018  Philadelphia op 12th            9     3   \n",
       "3          0  3/30/2018  Philadelphia op 12th            9     4   \n",
       "4          0  3/30/2018  Philadelphia op 12th            9     5   \n",
       "\n",
       "           White Name             Black Name Result  White ELO  Black ELO  \\\n",
       "0  Niemann, Hans Moke         Oberoi, Shelev      0     2302.0     1924.0   \n",
       "1  Niemann, Hans Moke          Popilski, Gil      1     2302.0     2502.0   \n",
       "2    Gorovets, Andrey     Niemann, Hans Moke      2     2496.0     2302.0   \n",
       "3        Tang, Andrew     Niemann, Hans Moke      0     2509.0     2302.0   \n",
       "4  Niemann, Hans Moke  Balakrishnan, Praveen      2     2302.0     2405.0   \n",
       "\n",
       "   Moves  White Av CP Loss  Black Av CP Loss  \\\n",
       "0   39.0              22.0              46.0   \n",
       "1   36.0              12.0              13.0   \n",
       "2   50.0              46.0              28.0   \n",
       "3   38.0              22.0              38.0   \n",
       "4   39.0              23.0               7.0   \n",
       "\n",
       "                                    Evaluations List  \\\n",
       "0  [47, 43, 44, -9, 17, 10, 5, 0, 12, -30, -13, -...   \n",
       "1  [46, 36, 46, 35, 50, 36, 62, 47, 59, 38, 57, 5...   \n",
       "2  [37, 27, 49, 6, 35, 12, 22, 18, 33, 13, 29, 19...   \n",
       "3  [46, 26, 40, 37, 96, 67, 151, 114, 138, 125, 1...   \n",
       "4  [35, 27, 48, 23, 36, 20, 46, 8, 25, 31, 38, -5...   \n",
       "\n",
       "                                  White CP Loss List  \\\n",
       "0  [4, 53, 7, 5, 42, 38, 0, 13, 135, 0, 0, 5, 0, ...   \n",
       "1  [10, 11, 14, 15, 21, 1, 31, 36, 2, 25, 11, 28,...   \n",
       "2  [10, 43, 23, 4, 20, 10, 12, 3, 9, 24, 10, 49, ...   \n",
       "3  [20, 3, 29, 37, 13, 51, 24, 33, 8, 45, 10, 31,...   \n",
       "4  [8, 25, 16, 38, 0, 92, 6, 0, 1, 2, 0, 7, 0, 30...   \n",
       "\n",
       "                                  Black CP Loss List  \\\n",
       "0  [1, 26, 0, 12, 17, 10, 19, 14, 35, 12, 10, 11,...   \n",
       "1  [10, 15, 26, 12, 19, 6, 54, 13, 18, 17, 12, 10...   \n",
       "2  [22, 29, 10, 15, 16, 0, 0, 41, 16, 7, 0, 73, 1...   \n",
       "3  [14, 59, 84, 24, 37, 42, 19, 36, 1, 50, 37, 0,...   \n",
       "4  [21, 13, 26, 17, 7, 3, 3, 45, 3, 0, 2, 0, 30, ...   \n",
       "\n",
       "                                                 PGN  Analysis Depth  \\\n",
       "0  [Event \"Philadelphia op 12th\"]\\n[Site \"Philade...            20.0   \n",
       "1  [Event \"Philadelphia op 12th\"]\\n[Site \"Philade...            20.0   \n",
       "2  [Event \"Philadelphia op 12th\"]\\n[Site \"Philade...            20.0   \n",
       "3  [Event \"Philadelphia op 12th\"]\\n[Site \"Philade...            20.0   \n",
       "4  [Event \"Philadelphia op 12th\"]\\n[Site \"Philade...            20.0   \n",
       "\n",
       "   White Expected Rating by ACPL  Black Expected Rating by ACPL  \n",
       "0                            NaN                            NaN  \n",
       "1                            NaN                            NaN  \n",
       "2                            NaN                            NaN  \n",
       "3                            NaN                            NaN  \n",
       "4                            NaN                            NaN  "
      ]
     },
     "execution_count": 13,
     "metadata": {},
     "output_type": "execute_result"
    }
   ],
   "source": [
    "# Show the first 5 rows\n",
    "df.head()\n"
   ]
  },
  {
   "cell_type": "code",
   "execution_count": 14,
   "metadata": {},
   "outputs": [
    {
     "name": "stdout",
     "output_type": "stream",
     "text": [
      "<class 'pandas.core.frame.DataFrame'>\n",
      "RangeIndex: 10622 entries, 0 to 10621\n",
      "Data columns (total 20 columns):\n",
      " #   Column                         Non-Null Count  Dtype  \n",
      "---  ------                         --------------  -----  \n",
      " 0   Unnamed: 0                     10622 non-null  object \n",
      " 1   Date                           10512 non-null  object \n",
      " 2   Event Name                     10486 non-null  object \n",
      " 3   Event Rounds                   10467 non-null  object \n",
      " 4   Round                          10480 non-null  object \n",
      " 5   White Name                     10480 non-null  object \n",
      " 6   Black Name                     10480 non-null  object \n",
      " 7   Result                         10480 non-null  object \n",
      " 8   White ELO                      10480 non-null  float64\n",
      " 9   Black ELO                      10480 non-null  float64\n",
      " 10  Moves                          10480 non-null  float64\n",
      " 11  White Av CP Loss               10480 non-null  float64\n",
      " 12  Black Av CP Loss               10480 non-null  float64\n",
      " 13  Evaluations List               10480 non-null  object \n",
      " 14  White CP Loss List             10480 non-null  object \n",
      " 15  Black CP Loss List             10480 non-null  object \n",
      " 16  PGN                            10480 non-null  object \n",
      " 17  Analysis Depth                 10479 non-null  float64\n",
      " 18  White Expected Rating by ACPL  14 non-null     float64\n",
      " 19  Black Expected Rating by ACPL  14 non-null     float64\n",
      "dtypes: float64(8), object(12)\n",
      "memory usage: 1.6+ MB\n"
     ]
    }
   ],
   "source": [
    "# show info about types of each column\n",
    "df.info()\n"
   ]
  },
  {
   "cell_type": "code",
   "execution_count": 15,
   "metadata": {},
   "outputs": [
    {
     "data": {
      "text/plain": [
       "Unnamed: 0                           0\n",
       "Date                               110\n",
       "Event Name                         136\n",
       "Event Rounds                       155\n",
       "Round                              142\n",
       "White Name                         142\n",
       "Black Name                         142\n",
       "Result                             142\n",
       "White ELO                          142\n",
       "Black ELO                          142\n",
       "Moves                              142\n",
       "White Av CP Loss                   142\n",
       "Black Av CP Loss                   142\n",
       "Evaluations List                   142\n",
       "White CP Loss List                 142\n",
       "Black CP Loss List                 142\n",
       "PGN                                142\n",
       "Analysis Depth                     143\n",
       "White Expected Rating by ACPL    10608\n",
       "Black Expected Rating by ACPL    10608\n",
       "dtype: int64"
      ]
     },
     "execution_count": 15,
     "metadata": {},
     "output_type": "execute_result"
    }
   ],
   "source": [
    "# Show null values for each column\n",
    "df.isna().sum()"
   ]
  },
  {
   "cell_type": "code",
   "execution_count": 16,
   "metadata": {},
   "outputs": [],
   "source": [
    "# defining the indexes of df with null values as players\n",
    "i = df[df['White Name'].isna()].index"
   ]
  },
  {
   "cell_type": "code",
   "execution_count": 17,
   "metadata": {},
   "outputs": [],
   "source": [
    "# Droping the rows were there is no White players name\n",
    "df = df.drop(i)"
   ]
  },
  {
   "cell_type": "code",
   "execution_count": 18,
   "metadata": {},
   "outputs": [],
   "source": [
    "# Correcting the one missing 'Analysis Depth' by hand to 20 \n",
    "df['Analysis Depth'] = df['Analysis Depth'].fillna(20)\n",
    "# Estimating the missing event round with the median \n",
    "df['Event Rounds'].fillna((df['Event Rounds'].median()), inplace=True)\n"
   ]
  },
  {
   "cell_type": "code",
   "execution_count": 19,
   "metadata": {},
   "outputs": [
    {
     "data": {
      "text/plain": [
       "Unnamed: 0                           0\n",
       "Date                                 0\n",
       "Event Name                           0\n",
       "Event Rounds                         0\n",
       "Round                                0\n",
       "White Name                           0\n",
       "Black Name                           0\n",
       "Result                               0\n",
       "White ELO                            0\n",
       "Black ELO                            0\n",
       "Moves                                0\n",
       "White Av CP Loss                     0\n",
       "Black Av CP Loss                     0\n",
       "Evaluations List                     0\n",
       "White CP Loss List                   0\n",
       "Black CP Loss List                   0\n",
       "PGN                                  0\n",
       "Analysis Depth                       0\n",
       "White Expected Rating by ACPL    10466\n",
       "Black Expected Rating by ACPL    10466\n",
       "dtype: int64"
      ]
     },
     "execution_count": 19,
     "metadata": {},
     "output_type": "execute_result"
    }
   ],
   "source": [
    "# again showin NaN values of df\n",
    "df.isna().sum()"
   ]
  },
  {
   "cell_type": "code",
   "execution_count": 20,
   "metadata": {},
   "outputs": [
    {
     "data": {
      "text/html": [
       "<div>\n",
       "<style scoped>\n",
       "    .dataframe tbody tr th:only-of-type {\n",
       "        vertical-align: middle;\n",
       "    }\n",
       "\n",
       "    .dataframe tbody tr th {\n",
       "        vertical-align: top;\n",
       "    }\n",
       "\n",
       "    .dataframe thead th {\n",
       "        text-align: right;\n",
       "    }\n",
       "</style>\n",
       "<table border=\"1\" class=\"dataframe\">\n",
       "  <thead>\n",
       "    <tr style=\"text-align: right;\">\n",
       "      <th></th>\n",
       "      <th>Date</th>\n",
       "      <th>Event Name</th>\n",
       "      <th>Event Rounds</th>\n",
       "      <th>Round</th>\n",
       "      <th>White Name</th>\n",
       "      <th>Black Name</th>\n",
       "      <th>Result</th>\n",
       "      <th>White ELO</th>\n",
       "      <th>Black ELO</th>\n",
       "      <th>Moves</th>\n",
       "      <th>White Av CP Loss</th>\n",
       "      <th>Black Av CP Loss</th>\n",
       "      <th>Evaluations List</th>\n",
       "      <th>White CP Loss List</th>\n",
       "      <th>Black CP Loss List</th>\n",
       "      <th>Analysis Depth</th>\n",
       "    </tr>\n",
       "  </thead>\n",
       "  <tbody>\n",
       "    <tr>\n",
       "      <th>0</th>\n",
       "      <td>3/28/2018</td>\n",
       "      <td>Philadelphia op 12th</td>\n",
       "      <td>9</td>\n",
       "      <td>1</td>\n",
       "      <td>Niemann, Hans Moke</td>\n",
       "      <td>Oberoi, Shelev</td>\n",
       "      <td>0</td>\n",
       "      <td>2302.0</td>\n",
       "      <td>1924.0</td>\n",
       "      <td>39.0</td>\n",
       "      <td>22.0</td>\n",
       "      <td>46.0</td>\n",
       "      <td>[47, 43, 44, -9, 17, 10, 5, 0, 12, -30, -13, -...</td>\n",
       "      <td>[4, 53, 7, 5, 42, 38, 0, 13, 135, 0, 0, 5, 0, ...</td>\n",
       "      <td>[1, 26, 0, 12, 17, 10, 19, 14, 35, 12, 10, 11,...</td>\n",
       "      <td>20.0</td>\n",
       "    </tr>\n",
       "    <tr>\n",
       "      <th>1</th>\n",
       "      <td>3/29/2018</td>\n",
       "      <td>Philadelphia op 12th</td>\n",
       "      <td>9</td>\n",
       "      <td>2</td>\n",
       "      <td>Niemann, Hans Moke</td>\n",
       "      <td>Popilski, Gil</td>\n",
       "      <td>1</td>\n",
       "      <td>2302.0</td>\n",
       "      <td>2502.0</td>\n",
       "      <td>36.0</td>\n",
       "      <td>12.0</td>\n",
       "      <td>13.0</td>\n",
       "      <td>[46, 36, 46, 35, 50, 36, 62, 47, 59, 38, 57, 5...</td>\n",
       "      <td>[10, 11, 14, 15, 21, 1, 31, 36, 2, 25, 11, 28,...</td>\n",
       "      <td>[10, 15, 26, 12, 19, 6, 54, 13, 18, 17, 12, 10...</td>\n",
       "      <td>20.0</td>\n",
       "    </tr>\n",
       "    <tr>\n",
       "      <th>2</th>\n",
       "      <td>3/29/2018</td>\n",
       "      <td>Philadelphia op 12th</td>\n",
       "      <td>9</td>\n",
       "      <td>3</td>\n",
       "      <td>Gorovets, Andrey</td>\n",
       "      <td>Niemann, Hans Moke</td>\n",
       "      <td>2</td>\n",
       "      <td>2496.0</td>\n",
       "      <td>2302.0</td>\n",
       "      <td>50.0</td>\n",
       "      <td>46.0</td>\n",
       "      <td>28.0</td>\n",
       "      <td>[37, 27, 49, 6, 35, 12, 22, 18, 33, 13, 29, 19...</td>\n",
       "      <td>[10, 43, 23, 4, 20, 10, 12, 3, 9, 24, 10, 49, ...</td>\n",
       "      <td>[22, 29, 10, 15, 16, 0, 0, 41, 16, 7, 0, 73, 1...</td>\n",
       "      <td>20.0</td>\n",
       "    </tr>\n",
       "    <tr>\n",
       "      <th>3</th>\n",
       "      <td>3/30/2018</td>\n",
       "      <td>Philadelphia op 12th</td>\n",
       "      <td>9</td>\n",
       "      <td>4</td>\n",
       "      <td>Tang, Andrew</td>\n",
       "      <td>Niemann, Hans Moke</td>\n",
       "      <td>0</td>\n",
       "      <td>2509.0</td>\n",
       "      <td>2302.0</td>\n",
       "      <td>38.0</td>\n",
       "      <td>22.0</td>\n",
       "      <td>38.0</td>\n",
       "      <td>[46, 26, 40, 37, 96, 67, 151, 114, 138, 125, 1...</td>\n",
       "      <td>[20, 3, 29, 37, 13, 51, 24, 33, 8, 45, 10, 31,...</td>\n",
       "      <td>[14, 59, 84, 24, 37, 42, 19, 36, 1, 50, 37, 0,...</td>\n",
       "      <td>20.0</td>\n",
       "    </tr>\n",
       "    <tr>\n",
       "      <th>4</th>\n",
       "      <td>3/30/2018</td>\n",
       "      <td>Philadelphia op 12th</td>\n",
       "      <td>9</td>\n",
       "      <td>5</td>\n",
       "      <td>Niemann, Hans Moke</td>\n",
       "      <td>Balakrishnan, Praveen</td>\n",
       "      <td>2</td>\n",
       "      <td>2302.0</td>\n",
       "      <td>2405.0</td>\n",
       "      <td>39.0</td>\n",
       "      <td>23.0</td>\n",
       "      <td>7.0</td>\n",
       "      <td>[35, 27, 48, 23, 36, 20, 46, 8, 25, 31, 38, -5...</td>\n",
       "      <td>[8, 25, 16, 38, 0, 92, 6, 0, 1, 2, 0, 7, 0, 30...</td>\n",
       "      <td>[21, 13, 26, 17, 7, 3, 3, 45, 3, 0, 2, 0, 30, ...</td>\n",
       "      <td>20.0</td>\n",
       "    </tr>\n",
       "  </tbody>\n",
       "</table>\n",
       "</div>"
      ],
      "text/plain": [
       "        Date            Event Name Event Rounds Round          White Name  \\\n",
       "0  3/28/2018  Philadelphia op 12th            9     1  Niemann, Hans Moke   \n",
       "1  3/29/2018  Philadelphia op 12th            9     2  Niemann, Hans Moke   \n",
       "2  3/29/2018  Philadelphia op 12th            9     3    Gorovets, Andrey   \n",
       "3  3/30/2018  Philadelphia op 12th            9     4        Tang, Andrew   \n",
       "4  3/30/2018  Philadelphia op 12th            9     5  Niemann, Hans Moke   \n",
       "\n",
       "              Black Name Result  White ELO  Black ELO  Moves  \\\n",
       "0         Oberoi, Shelev      0     2302.0     1924.0   39.0   \n",
       "1          Popilski, Gil      1     2302.0     2502.0   36.0   \n",
       "2     Niemann, Hans Moke      2     2496.0     2302.0   50.0   \n",
       "3     Niemann, Hans Moke      0     2509.0     2302.0   38.0   \n",
       "4  Balakrishnan, Praveen      2     2302.0     2405.0   39.0   \n",
       "\n",
       "   White Av CP Loss  Black Av CP Loss  \\\n",
       "0              22.0              46.0   \n",
       "1              12.0              13.0   \n",
       "2              46.0              28.0   \n",
       "3              22.0              38.0   \n",
       "4              23.0               7.0   \n",
       "\n",
       "                                    Evaluations List  \\\n",
       "0  [47, 43, 44, -9, 17, 10, 5, 0, 12, -30, -13, -...   \n",
       "1  [46, 36, 46, 35, 50, 36, 62, 47, 59, 38, 57, 5...   \n",
       "2  [37, 27, 49, 6, 35, 12, 22, 18, 33, 13, 29, 19...   \n",
       "3  [46, 26, 40, 37, 96, 67, 151, 114, 138, 125, 1...   \n",
       "4  [35, 27, 48, 23, 36, 20, 46, 8, 25, 31, 38, -5...   \n",
       "\n",
       "                                  White CP Loss List  \\\n",
       "0  [4, 53, 7, 5, 42, 38, 0, 13, 135, 0, 0, 5, 0, ...   \n",
       "1  [10, 11, 14, 15, 21, 1, 31, 36, 2, 25, 11, 28,...   \n",
       "2  [10, 43, 23, 4, 20, 10, 12, 3, 9, 24, 10, 49, ...   \n",
       "3  [20, 3, 29, 37, 13, 51, 24, 33, 8, 45, 10, 31,...   \n",
       "4  [8, 25, 16, 38, 0, 92, 6, 0, 1, 2, 0, 7, 0, 30...   \n",
       "\n",
       "                                  Black CP Loss List  Analysis Depth  \n",
       "0  [1, 26, 0, 12, 17, 10, 19, 14, 35, 12, 10, 11,...            20.0  \n",
       "1  [10, 15, 26, 12, 19, 6, 54, 13, 18, 17, 12, 10...            20.0  \n",
       "2  [22, 29, 10, 15, 16, 0, 0, 41, 16, 7, 0, 73, 1...            20.0  \n",
       "3  [14, 59, 84, 24, 37, 42, 19, 36, 1, 50, 37, 0,...            20.0  \n",
       "4  [21, 13, 26, 17, 7, 3, 3, 45, 3, 0, 2, 0, 30, ...            20.0  "
      ]
     },
     "execution_count": 20,
     "metadata": {},
     "output_type": "execute_result"
    }
   ],
   "source": [
    "# dropping 0 columns and columns not containing additinal info\n",
    "df = df.drop(columns = ['Unnamed: 0', 'PGN', 'White Expected Rating by ACPL', 'Black Expected Rating by ACPL'])\n",
    "df.head()"
   ]
  },
  {
   "cell_type": "markdown",
   "metadata": {},
   "source": [
    "Perfect! The Dataframe `df` is now ready for analysis"
   ]
  },
  {
   "cell_type": "markdown",
   "metadata": {},
   "source": [
    "## Data Analysis \n"
   ]
  },
  {
   "cell_type": "code",
   "execution_count": 24,
   "metadata": {},
   "outputs": [
    {
     "data": {
      "text/html": [
       "<div>\n",
       "<style scoped>\n",
       "    .dataframe tbody tr th:only-of-type {\n",
       "        vertical-align: middle;\n",
       "    }\n",
       "\n",
       "    .dataframe tbody tr th {\n",
       "        vertical-align: top;\n",
       "    }\n",
       "\n",
       "    .dataframe thead th {\n",
       "        text-align: right;\n",
       "    }\n",
       "</style>\n",
       "<table border=\"1\" class=\"dataframe\">\n",
       "  <thead>\n",
       "    <tr style=\"text-align: right;\">\n",
       "      <th></th>\n",
       "      <th>White ELO</th>\n",
       "      <th>Black ELO</th>\n",
       "      <th>Moves</th>\n",
       "      <th>White Av CP Loss</th>\n",
       "      <th>Black Av CP Loss</th>\n",
       "      <th>Analysis Depth</th>\n",
       "    </tr>\n",
       "  </thead>\n",
       "  <tbody>\n",
       "    <tr>\n",
       "      <th>count</th>\n",
       "      <td>10480.000000</td>\n",
       "      <td>10480.000000</td>\n",
       "      <td>10480.000000</td>\n",
       "      <td>10480.000000</td>\n",
       "      <td>10480.000000</td>\n",
       "      <td>10480.000000</td>\n",
       "    </tr>\n",
       "    <tr>\n",
       "      <th>mean</th>\n",
       "      <td>2534.952863</td>\n",
       "      <td>2526.260878</td>\n",
       "      <td>44.281202</td>\n",
       "      <td>26.839218</td>\n",
       "      <td>28.505725</td>\n",
       "      <td>20.002672</td>\n",
       "    </tr>\n",
       "    <tr>\n",
       "      <th>std</th>\n",
       "      <td>215.420060</td>\n",
       "      <td>233.359409</td>\n",
       "      <td>17.928808</td>\n",
       "      <td>16.569915</td>\n",
       "      <td>17.718973</td>\n",
       "      <td>0.073054</td>\n",
       "    </tr>\n",
       "    <tr>\n",
       "      <th>min</th>\n",
       "      <td>893.000000</td>\n",
       "      <td>700.000000</td>\n",
       "      <td>0.000000</td>\n",
       "      <td>0.000000</td>\n",
       "      <td>0.000000</td>\n",
       "      <td>20.000000</td>\n",
       "    </tr>\n",
       "    <tr>\n",
       "      <th>25%</th>\n",
       "      <td>2439.000000</td>\n",
       "      <td>2430.000000</td>\n",
       "      <td>33.000000</td>\n",
       "      <td>15.000000</td>\n",
       "      <td>15.000000</td>\n",
       "      <td>20.000000</td>\n",
       "    </tr>\n",
       "    <tr>\n",
       "      <th>50%</th>\n",
       "      <td>2558.000000</td>\n",
       "      <td>2553.000000</td>\n",
       "      <td>41.000000</td>\n",
       "      <td>23.000000</td>\n",
       "      <td>25.000000</td>\n",
       "      <td>20.000000</td>\n",
       "    </tr>\n",
       "    <tr>\n",
       "      <th>75%</th>\n",
       "      <td>2688.000000</td>\n",
       "      <td>2686.000000</td>\n",
       "      <td>54.000000</td>\n",
       "      <td>35.000000</td>\n",
       "      <td>39.000000</td>\n",
       "      <td>20.000000</td>\n",
       "    </tr>\n",
       "    <tr>\n",
       "      <th>max</th>\n",
       "      <td>2882.000000</td>\n",
       "      <td>2882.000000</td>\n",
       "      <td>182.000000</td>\n",
       "      <td>458.000000</td>\n",
       "      <td>476.000000</td>\n",
       "      <td>22.000000</td>\n",
       "    </tr>\n",
       "  </tbody>\n",
       "</table>\n",
       "</div>"
      ],
      "text/plain": [
       "          White ELO     Black ELO         Moves  White Av CP Loss  \\\n",
       "count  10480.000000  10480.000000  10480.000000      10480.000000   \n",
       "mean    2534.952863   2526.260878     44.281202         26.839218   \n",
       "std      215.420060    233.359409     17.928808         16.569915   \n",
       "min      893.000000    700.000000      0.000000          0.000000   \n",
       "25%     2439.000000   2430.000000     33.000000         15.000000   \n",
       "50%     2558.000000   2553.000000     41.000000         23.000000   \n",
       "75%     2688.000000   2686.000000     54.000000         35.000000   \n",
       "max     2882.000000   2882.000000    182.000000        458.000000   \n",
       "\n",
       "       Black Av CP Loss  Analysis Depth  \n",
       "count      10480.000000    10480.000000  \n",
       "mean          28.505725       20.002672  \n",
       "std           17.718973        0.073054  \n",
       "min            0.000000       20.000000  \n",
       "25%           15.000000       20.000000  \n",
       "50%           25.000000       20.000000  \n",
       "75%           39.000000       20.000000  \n",
       "max          476.000000       22.000000  "
      ]
     },
     "execution_count": 24,
     "metadata": {},
     "output_type": "execute_result"
    }
   ],
   "source": [
    "# starting by looking at the statistics of the numerical values of df\n",
    "df.describe()"
   ]
  },
  {
   "cell_type": "code",
   "execution_count": 37,
   "metadata": {},
   "outputs": [
    {
     "data": {
      "text/plain": [
       "<matplotlib.axes._subplots.AxesSubplot at 0x2429a1d48c8>"
      ]
     },
     "execution_count": 37,
     "metadata": {},
     "output_type": "execute_result"
    },
    {
     "data": {
      "image/png": "[encoded data removed]",
      "text/plain": [
       "<Figure size 432x288 with 1 Axes>"
      ]
     },
     "metadata": {
      "needs_background": "light"
     },
     "output_type": "display_data"
    }
   ],
   "source": [
    "sns.lineplot(df['White ELO'], df['Black ELO'])"
   ]
  },
  {
   "cell_type": "markdown",
   "metadata": {},
   "source": [
    "This graph indicates that there is a correlation between `Black ELO` and `White ELO` which is due to the structure of the ELO system and tournament modes (i.e. swiss) meaning strong players will get paired against strong players"
   ]
  },
  {
   "cell_type": "code",
   "execution_count": 38,
   "metadata": {},
   "outputs": [
    {
     "data": {
      "text/plain": [
       "<matplotlib.axes._subplots.AxesSubplot at 0x2429acb57c8>"
      ]
     },
     "execution_count": 38,
     "metadata": {},
     "output_type": "execute_result"
    },
    {
     "data": {
      "image/png": "[encoded data removed]",
      "text/plain": [
       "<Figure size 432x288 with 1 Axes>"
      ]
     },
     "metadata": {
      "needs_background": "light"
     },
     "output_type": "display_data"
    }
   ],
   "source": [
    "sns.lineplot(df['White ELO'], df['Moves'])"
   ]
  },
  {
   "cell_type": "markdown",
   "metadata": {},
   "source": [
    "Seems there is no correlation between playing strength and number of moves "
   ]
  },
  {
   "cell_type": "code",
   "execution_count": null,
   "metadata": {},
   "outputs": [],
   "source": []
  },
  {
   "cell_type": "code",
   "execution_count": 43,
   "metadata": {},
   "outputs": [
    {
     "data": {
      "text/plain": [
       "[(0, 200)]"
      ]
     },
     "execution_count": 43,
     "metadata": {},
     "output_type": "execute_result"
    },
    {
     "data": {
      "image/png": "[encoded data removed]",
      "text/plain": [
       "<Figure size 432x288 with 1 Axes>"
      ]
     },
     "metadata": {
      "needs_background": "light"
     },
     "output_type": "display_data"
    }
   ],
   "source": [
    "g = sns.lineplot(df['White ELO'], df['White Av CP Loss'])\n",
    "g.set(ylim=(0, 200))\n"
   ]
  },
  {
   "cell_type": "code",
   "execution_count": null,
   "metadata": {},
   "outputs": [],
   "source": []
  }
 ],
 "metadata": {
  "kernelspec": {
   "display_name": "Python 3",
   "language": "python",
   "name": "python3"
  },
  "language_info": {
   "codemirror_mode": {
    "name": "ipython",
    "version": 3
   },
   "file_extension": ".py",
   "mimetype": "text/x-python",
   "name": "python",
   "nbconvert_exporter": "python",
   "pygments_lexer": "ipython3",
   "version": "3.7.6"
  }
 },
 "nbformat": 4,
 "nbformat_minor": 4
}
